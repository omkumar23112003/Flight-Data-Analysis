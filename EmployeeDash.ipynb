{
 "cells": [
  {
   "cell_type": "code",
   "execution_count": 1,
   "id": "f5d88f45-869b-4f18-9bc6-bb75c0a11f80",
   "metadata": {},
   "outputs": [
    {
     "name": "stdout",
     "output_type": "stream",
     "text": [
      "Requirement already satisfied: dash in c:\\users\\new\\appdata\\local\\programs\\python\\python313\\lib\\site-packages (2.18.1)\n",
      "Requirement already satisfied: dash-bootstrap-components in c:\\users\\new\\appdata\\local\\programs\\python\\python313\\lib\\site-packages (1.6.0)\n",
      "Requirement already satisfied: pandas in c:\\users\\new\\appdata\\local\\programs\\python\\python313\\lib\\site-packages (2.2.3)\n",
      "Requirement already satisfied: sqlalchemy in c:\\users\\new\\appdata\\local\\programs\\python\\python313\\lib\\site-packages (2.0.36)\n",
      "Requirement already satisfied: pymysql in c:\\users\\new\\appdata\\local\\programs\\python\\python313\\lib\\site-packages (1.1.1)\n",
      "Requirement already satisfied: Flask<3.1,>=1.0.4 in c:\\users\\new\\appdata\\local\\programs\\python\\python313\\lib\\site-packages (from dash) (3.0.3)\n",
      "Requirement already satisfied: Werkzeug<3.1 in c:\\users\\new\\appdata\\local\\programs\\python\\python313\\lib\\site-packages (from dash) (3.0.4)\n",
      "Requirement already satisfied: plotly>=5.0.0 in c:\\users\\new\\appdata\\local\\programs\\python\\python313\\lib\\site-packages (from dash) (5.24.1)\n",
      "Requirement already satisfied: dash-html-components==2.0.0 in c:\\users\\new\\appdata\\local\\programs\\python\\python313\\lib\\site-packages (from dash) (2.0.0)\n",
      "Requirement already satisfied: dash-core-components==2.0.0 in c:\\users\\new\\appdata\\local\\programs\\python\\python313\\lib\\site-packages (from dash) (2.0.0)\n",
      "Requirement already satisfied: dash-table==5.0.0 in c:\\users\\new\\appdata\\local\\programs\\python\\python313\\lib\\site-packages (from dash) (5.0.0)\n",
      "Requirement already satisfied: importlib-metadata in c:\\users\\new\\appdata\\local\\programs\\python\\python313\\lib\\site-packages (from dash) (8.5.0)\n",
      "Requirement already satisfied: typing-extensions>=4.1.1 in c:\\users\\new\\appdata\\local\\programs\\python\\python313\\lib\\site-packages (from dash) (4.12.2)\n",
      "Requirement already satisfied: requests in c:\\users\\new\\appdata\\local\\programs\\python\\python313\\lib\\site-packages (from dash) (2.32.3)\n",
      "Requirement already satisfied: retrying in c:\\users\\new\\appdata\\local\\programs\\python\\python313\\lib\\site-packages (from dash) (1.3.4)\n",
      "Requirement already satisfied: nest-asyncio in c:\\users\\new\\appdata\\local\\programs\\python\\python313\\lib\\site-packages (from dash) (1.6.0)\n",
      "Requirement already satisfied: setuptools in c:\\users\\new\\appdata\\local\\programs\\python\\python313\\lib\\site-packages (from dash) (75.2.0)\n",
      "Requirement already satisfied: numpy>=1.26.0 in c:\\users\\new\\appdata\\local\\programs\\python\\python313\\lib\\site-packages (from pandas) (2.1.2)\n",
      "Requirement already satisfied: python-dateutil>=2.8.2 in c:\\users\\new\\appdata\\local\\programs\\python\\python313\\lib\\site-packages (from pandas) (2.9.0.post0)\n",
      "Requirement already satisfied: pytz>=2020.1 in c:\\users\\new\\appdata\\local\\programs\\python\\python313\\lib\\site-packages (from pandas) (2024.2)\n",
      "Requirement already satisfied: tzdata>=2022.7 in c:\\users\\new\\appdata\\local\\programs\\python\\python313\\lib\\site-packages (from pandas) (2024.2)\n",
      "Requirement already satisfied: Jinja2>=3.1.2 in c:\\users\\new\\appdata\\local\\programs\\python\\python313\\lib\\site-packages (from Flask<3.1,>=1.0.4->dash) (3.1.4)\n",
      "Requirement already satisfied: itsdangerous>=2.1.2 in c:\\users\\new\\appdata\\local\\programs\\python\\python313\\lib\\site-packages (from Flask<3.1,>=1.0.4->dash) (2.2.0)\n",
      "Requirement already satisfied: click>=8.1.3 in c:\\users\\new\\appdata\\local\\programs\\python\\python313\\lib\\site-packages (from Flask<3.1,>=1.0.4->dash) (8.1.7)\n",
      "Requirement already satisfied: blinker>=1.6.2 in c:\\users\\new\\appdata\\local\\programs\\python\\python313\\lib\\site-packages (from Flask<3.1,>=1.0.4->dash) (1.8.2)\n",
      "Requirement already satisfied: tenacity>=6.2.0 in c:\\users\\new\\appdata\\local\\programs\\python\\python313\\lib\\site-packages (from plotly>=5.0.0->dash) (9.0.0)\n",
      "Requirement already satisfied: packaging in c:\\users\\new\\appdata\\local\\programs\\python\\python313\\lib\\site-packages (from plotly>=5.0.0->dash) (24.1)\n",
      "Requirement already satisfied: six>=1.5 in c:\\users\\new\\appdata\\local\\programs\\python\\python313\\lib\\site-packages (from python-dateutil>=2.8.2->pandas) (1.16.0)\n",
      "Requirement already satisfied: MarkupSafe>=2.1.1 in c:\\users\\new\\appdata\\local\\programs\\python\\python313\\lib\\site-packages (from Werkzeug<3.1->dash) (3.0.1)\n",
      "Requirement already satisfied: zipp>=3.20 in c:\\users\\new\\appdata\\local\\programs\\python\\python313\\lib\\site-packages (from importlib-metadata->dash) (3.20.2)\n",
      "Requirement already satisfied: charset-normalizer<4,>=2 in c:\\users\\new\\appdata\\local\\programs\\python\\python313\\lib\\site-packages (from requests->dash) (3.4.0)\n",
      "Requirement already satisfied: idna<4,>=2.5 in c:\\users\\new\\appdata\\local\\programs\\python\\python313\\lib\\site-packages (from requests->dash) (3.10)\n",
      "Requirement already satisfied: urllib3<3,>=1.21.1 in c:\\users\\new\\appdata\\local\\programs\\python\\python313\\lib\\site-packages (from requests->dash) (2.2.3)\n",
      "Requirement already satisfied: certifi>=2017.4.17 in c:\\users\\new\\appdata\\local\\programs\\python\\python313\\lib\\site-packages (from requests->dash) (2024.8.30)\n",
      "Requirement already satisfied: colorama in c:\\users\\new\\appdata\\local\\programs\\python\\python313\\lib\\site-packages (from click>=8.1.3->Flask<3.1,>=1.0.4->dash) (0.4.6)\n"
     ]
    }
   ],
   "source": [
    "! pip install dash dash-bootstrap-components pandas sqlalchemy pymysql"
   ]
  },
  {
   "cell_type": "code",
   "execution_count": 3,
   "id": "d1b6fd69-2ec7-4b60-bb4a-71d7a309ff8a",
   "metadata": {},
   "outputs": [
    {
     "data": {
      "text/html": [
       "<div>\n",
       "<style scoped>\n",
       "    .dataframe tbody tr th:only-of-type {\n",
       "        vertical-align: middle;\n",
       "    }\n",
       "\n",
       "    .dataframe tbody tr th {\n",
       "        vertical-align: top;\n",
       "    }\n",
       "\n",
       "    .dataframe thead th {\n",
       "        text-align: right;\n",
       "    }\n",
       "</style>\n",
       "<table border=\"1\" class=\"dataframe\">\n",
       "  <thead>\n",
       "    <tr style=\"text-align: right;\">\n",
       "      <th></th>\n",
       "      <th>employee_id</th>\n",
       "      <th>name</th>\n",
       "      <th>department</th>\n",
       "      <th>sales_amount</th>\n",
       "    </tr>\n",
       "  </thead>\n",
       "  <tbody>\n",
       "    <tr>\n",
       "      <th>0</th>\n",
       "      <td>1</td>\n",
       "      <td>Alice</td>\n",
       "      <td>Sales</td>\n",
       "      <td>500.0</td>\n",
       "    </tr>\n",
       "    <tr>\n",
       "      <th>1</th>\n",
       "      <td>2</td>\n",
       "      <td>Bob</td>\n",
       "      <td>Sales</td>\n",
       "      <td>700.0</td>\n",
       "    </tr>\n",
       "    <tr>\n",
       "      <th>2</th>\n",
       "      <td>3</td>\n",
       "      <td>Charlie</td>\n",
       "      <td>HR</td>\n",
       "      <td>200.0</td>\n",
       "    </tr>\n",
       "    <tr>\n",
       "      <th>3</th>\n",
       "      <td>4</td>\n",
       "      <td>David</td>\n",
       "      <td>HR</td>\n",
       "      <td>300.0</td>\n",
       "    </tr>\n",
       "    <tr>\n",
       "      <th>4</th>\n",
       "      <td>5</td>\n",
       "      <td>Eve</td>\n",
       "      <td>Sales</td>\n",
       "      <td>600.0</td>\n",
       "    </tr>\n",
       "  </tbody>\n",
       "</table>\n",
       "</div>"
      ],
      "text/plain": [
       "   employee_id     name department  sales_amount\n",
       "0            1    Alice      Sales         500.0\n",
       "1            2      Bob      Sales         700.0\n",
       "2            3  Charlie         HR         200.0\n",
       "3            4    David         HR         300.0\n",
       "4            5      Eve      Sales         600.0"
      ]
     },
     "execution_count": 3,
     "metadata": {},
     "output_type": "execute_result"
    }
   ],
   "source": [
    "from sqlalchemy import create_engine\n",
    "import pandas as pd\n",
    "#DB connection details\n",
    "username='root'\n",
    "password='admin'\n",
    "host='localhost'\n",
    "database='pw'\n",
    "\n",
    "engine = create_engine(f'mysql+pymysql://{username}:{password}@{host}/{database}')\n",
    "query = \"SELECT * from employees\"\n",
    "df = pd.read_sql(query,engine)\n",
    "df.head()"
   ]
  },
  {
   "cell_type": "code",
   "execution_count": 4,
   "id": "d6803a1e-2aa8-45a0-b37c-cbdb51469096",
   "metadata": {},
   "outputs": [
    {
     "data": {
      "text/html": [
       "\n",
       "        <iframe\n",
       "            width=\"100%\"\n",
       "            height=\"650\"\n",
       "            src=\"http://127.0.0.1:8050/\"\n",
       "            frameborder=\"0\"\n",
       "            allowfullscreen\n",
       "            \n",
       "        ></iframe>\n",
       "        "
      ],
      "text/plain": [
       "<IPython.lib.display.IFrame at 0x1b4becd1e80>"
      ]
     },
     "metadata": {},
     "output_type": "display_data"
    }
   ],
   "source": [
    "from dash import Dash, html, dcc\n",
    "from dash.dependencies import Input, Output\n",
    "import plotly.express as px\n",
    "# create a Dash App\n",
    "app = Dash(__name__)\n",
    "# create simple bar chart\n",
    "fig = px.bar(df,x='department', y='sales_amount',color='name', title='Sales By Employee')\n",
    "#Define the layout for our Dashboard\n",
    "app.layout = html.Div(children=[\n",
    "    html.H1(children='Employee Sales Dashboard'),\n",
    "    html.Div(children='''This Dashboard Shows Employee Sales Data from Database. '''),\n",
    "    dcc.Graph(\n",
    "        id='sales-graph',\n",
    "        figure=fig\n",
    "    ),\n",
    "    dcc.Dropdown(\n",
    "        id='department-dropdown',\n",
    "        options=[{'label':dept,'value':dept} for dept in df['department'].unique()],\n",
    "        placeholder=\"Select a Department\"\n",
    "    )\n",
    "])\n",
    "# Data filtering based on department\n",
    "@app.callback(\n",
    "    Output('sales-graph','figure'),\n",
    "    [Input('department-dropdown','value')]\n",
    ")\n",
    "def update_graph(selected_department):\n",
    "    if selected_department:\n",
    "        filtered_df=df[df['department']==selected_department]\n",
    "        fig = px.bar(filtered_df,x='name',y='sales_amount',title=f'Sales for {selected_department}')\n",
    "    else:\n",
    "        fig=px.bar(df,x='department', y='sales_amount',color='name', title='Sales By Employee')\n",
    "    return fig\n",
    "# Run the App\n",
    "if __name__== '__main__':\n",
    "    app.run_server(debug=True)"
   ]
  },
  {
   "cell_type": "code",
   "execution_count": null,
   "id": "a58cbb54-941c-47d3-9efc-96368c8cfba5",
   "metadata": {},
   "outputs": [],
   "source": []
  }
 ],
 "metadata": {
  "kernelspec": {
   "display_name": "Python 3 (ipykernel)",
   "language": "python",
   "name": "python3"
  },
  "language_info": {
   "codemirror_mode": {
    "name": "ipython",
    "version": 3
   },
   "file_extension": ".py",
   "mimetype": "text/x-python",
   "name": "python",
   "nbconvert_exporter": "python",
   "pygments_lexer": "ipython3",
   "version": "3.13.0"
  }
 },
 "nbformat": 4,
 "nbformat_minor": 5
}
